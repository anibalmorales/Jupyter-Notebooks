{
 "cells": [
  {
   "cell_type": "code",
   "execution_count": 1,
   "metadata": {},
   "outputs": [
    {
     "name": "stdout",
     "output_type": "stream",
     "text": [
      "Populating the interactive namespace from numpy and matplotlib\n"
     ]
    }
   ],
   "source": [
    "import pandas as pd\n",
    "import numpy as np\n",
    "import seaborn as sns\n",
    "from matplotlib import pyplot as plt\n",
    "%matplotlib inline\n",
    "%pylab inline\n",
    "import warnings\n",
    "warnings.filterwarnings('ignore')"
   ]
  },
  {
   "cell_type": "code",
   "execution_count": 2,
   "metadata": {},
   "outputs": [],
   "source": [
    "pylab.rcParams['figure.figsize'] = (20, 6) #Estas dos lineas me ayudan a controlar el tamaño de los plots en el notebook"
   ]
  },
  {
   "cell_type": "code",
   "execution_count": 3,
   "metadata": {},
   "outputs": [],
   "source": [
    "data = pd.read_csv('data/aeropuertos.csv')"
   ]
  },
  {
   "cell_type": "code",
   "execution_count": 4,
   "metadata": {},
   "outputs": [
    {
     "data": {
      "text/html": [
       "<div>\n",
       "<style scoped>\n",
       "    .dataframe tbody tr th:only-of-type {\n",
       "        vertical-align: middle;\n",
       "    }\n",
       "\n",
       "    .dataframe tbody tr th {\n",
       "        vertical-align: top;\n",
       "    }\n",
       "\n",
       "    .dataframe thead th {\n",
       "        text-align: right;\n",
       "    }\n",
       "</style>\n",
       "<table border=\"1\" class=\"dataframe\">\n",
       "  <thead>\n",
       "    <tr style=\"text-align: right;\">\n",
       "      <th></th>\n",
       "      <th>ident</th>\n",
       "      <th>type</th>\n",
       "      <th>name</th>\n",
       "      <th>elevation_ft</th>\n",
       "      <th>continent</th>\n",
       "      <th>iso_country</th>\n",
       "      <th>iso_region</th>\n",
       "      <th>municipality</th>\n",
       "      <th>gps_code</th>\n",
       "      <th>iata_code</th>\n",
       "      <th>local_code</th>\n",
       "      <th>coordinates</th>\n",
       "    </tr>\n",
       "  </thead>\n",
       "  <tbody>\n",
       "    <tr>\n",
       "      <th>0</th>\n",
       "      <td>00A</td>\n",
       "      <td>heliport</td>\n",
       "      <td>Total Rf Heliport</td>\n",
       "      <td>11.0</td>\n",
       "      <td>NaN</td>\n",
       "      <td>US</td>\n",
       "      <td>US-PA</td>\n",
       "      <td>Bensalem</td>\n",
       "      <td>00A</td>\n",
       "      <td>NaN</td>\n",
       "      <td>00A</td>\n",
       "      <td>-74.93360137939453, 40.07080078125</td>\n",
       "    </tr>\n",
       "    <tr>\n",
       "      <th>1</th>\n",
       "      <td>00AA</td>\n",
       "      <td>small_airport</td>\n",
       "      <td>Aero B Ranch Airport</td>\n",
       "      <td>3435.0</td>\n",
       "      <td>NaN</td>\n",
       "      <td>US</td>\n",
       "      <td>US-KS</td>\n",
       "      <td>Leoti</td>\n",
       "      <td>00AA</td>\n",
       "      <td>NaN</td>\n",
       "      <td>00AA</td>\n",
       "      <td>-101.473911, 38.704022</td>\n",
       "    </tr>\n",
       "    <tr>\n",
       "      <th>2</th>\n",
       "      <td>00AK</td>\n",
       "      <td>small_airport</td>\n",
       "      <td>Lowell Field</td>\n",
       "      <td>450.0</td>\n",
       "      <td>NaN</td>\n",
       "      <td>US</td>\n",
       "      <td>US-AK</td>\n",
       "      <td>Anchor Point</td>\n",
       "      <td>00AK</td>\n",
       "      <td>NaN</td>\n",
       "      <td>00AK</td>\n",
       "      <td>-151.695999146, 59.94919968</td>\n",
       "    </tr>\n",
       "    <tr>\n",
       "      <th>3</th>\n",
       "      <td>00AL</td>\n",
       "      <td>small_airport</td>\n",
       "      <td>Epps Airpark</td>\n",
       "      <td>820.0</td>\n",
       "      <td>NaN</td>\n",
       "      <td>US</td>\n",
       "      <td>US-AL</td>\n",
       "      <td>Harvest</td>\n",
       "      <td>00AL</td>\n",
       "      <td>NaN</td>\n",
       "      <td>00AL</td>\n",
       "      <td>-86.77030181884766, 34.86479949951172</td>\n",
       "    </tr>\n",
       "    <tr>\n",
       "      <th>4</th>\n",
       "      <td>00AR</td>\n",
       "      <td>closed</td>\n",
       "      <td>Newport Hospital &amp; Clinic Heliport</td>\n",
       "      <td>237.0</td>\n",
       "      <td>NaN</td>\n",
       "      <td>US</td>\n",
       "      <td>US-AR</td>\n",
       "      <td>Newport</td>\n",
       "      <td>NaN</td>\n",
       "      <td>NaN</td>\n",
       "      <td>NaN</td>\n",
       "      <td>-91.254898, 35.6087</td>\n",
       "    </tr>\n",
       "  </tbody>\n",
       "</table>\n",
       "</div>"
      ],
      "text/plain": [
       "  ident           type                                name  elevation_ft  \\\n",
       "0   00A       heliport                   Total Rf Heliport          11.0   \n",
       "1  00AA  small_airport                Aero B Ranch Airport        3435.0   \n",
       "2  00AK  small_airport                        Lowell Field         450.0   \n",
       "3  00AL  small_airport                        Epps Airpark         820.0   \n",
       "4  00AR         closed  Newport Hospital & Clinic Heliport         237.0   \n",
       "\n",
       "  continent iso_country iso_region  municipality gps_code iata_code  \\\n",
       "0       NaN          US      US-PA      Bensalem      00A       NaN   \n",
       "1       NaN          US      US-KS         Leoti     00AA       NaN   \n",
       "2       NaN          US      US-AK  Anchor Point     00AK       NaN   \n",
       "3       NaN          US      US-AL       Harvest     00AL       NaN   \n",
       "4       NaN          US      US-AR       Newport      NaN       NaN   \n",
       "\n",
       "  local_code                            coordinates  \n",
       "0        00A     -74.93360137939453, 40.07080078125  \n",
       "1       00AA                 -101.473911, 38.704022  \n",
       "2       00AK            -151.695999146, 59.94919968  \n",
       "3       00AL  -86.77030181884766, 34.86479949951172  \n",
       "4        NaN                    -91.254898, 35.6087  "
      ]
     },
     "execution_count": 4,
     "metadata": {},
     "output_type": "execute_result"
    }
   ],
   "source": [
    "data.head()"
   ]
  },
  {
   "cell_type": "code",
   "execution_count": 5,
   "metadata": {},
   "outputs": [
    {
     "name": "stdout",
     "output_type": "stream",
     "text": [
      "<class 'pandas.core.frame.DataFrame'>\n",
      "RangeIndex: 54736 entries, 0 to 54735\n",
      "Data columns (total 12 columns):\n",
      "ident           54736 non-null object\n",
      "type            54736 non-null object\n",
      "name            54736 non-null object\n",
      "elevation_ft    47785 non-null float64\n",
      "continent       27259 non-null object\n",
      "iso_country     54489 non-null object\n",
      "iso_region      54736 non-null object\n",
      "municipality    49120 non-null object\n",
      "gps_code        41072 non-null object\n",
      "iata_code       9171 non-null object\n",
      "local_code      28591 non-null object\n",
      "coordinates     54736 non-null object\n",
      "dtypes: float64(1), object(11)\n",
      "memory usage: 5.0+ MB\n"
     ]
    }
   ],
   "source": [
    "data.info()"
   ]
  },
  {
   "cell_type": "code",
   "execution_count": 6,
   "metadata": {},
   "outputs": [
    {
     "data": {
      "text/plain": [
       "Index(['ident', 'type', 'name', 'elevation_ft', 'continent', 'iso_country',\n",
       "       'iso_region', 'municipality', 'gps_code', 'iata_code', 'local_code',\n",
       "       'coordinates'],\n",
       "      dtype='object')"
      ]
     },
     "execution_count": 6,
     "metadata": {},
     "output_type": "execute_result"
    }
   ],
   "source": [
    "data.columns"
   ]
  },
  {
   "cell_type": "code",
   "execution_count": 7,
   "metadata": {},
   "outputs": [
    {
     "name": "stdout",
     "output_type": "stream",
     "text": [
      "<class 'pandas.core.frame.DataFrame'>\n",
      "Int64Index: 54062 entries, 0 to 54735\n",
      "Data columns (total 12 columns):\n",
      "ident           54062 non-null object\n",
      "type            54062 non-null object\n",
      "name            54062 non-null object\n",
      "elevation_ft    47111 non-null float64\n",
      "continent       26585 non-null object\n",
      "iso_country     53815 non-null object\n",
      "iso_region      54062 non-null object\n",
      "municipality    48446 non-null object\n",
      "gps_code        40398 non-null object\n",
      "iata_code       8497 non-null object\n",
      "local_code      27917 non-null object\n",
      "coordinates     54062 non-null object\n",
      "dtypes: float64(1), object(11)\n",
      "memory usage: 5.4+ MB\n"
     ]
    }
   ],
   "source": [
    "null_data = data[data.isnull().any(axis = 1)]\n",
    "null_data.info()"
   ]
  },
  {
   "cell_type": "code",
   "execution_count": 8,
   "metadata": {},
   "outputs": [
    {
     "data": {
      "text/html": [
       "<div>\n",
       "<style scoped>\n",
       "    .dataframe tbody tr th:only-of-type {\n",
       "        vertical-align: middle;\n",
       "    }\n",
       "\n",
       "    .dataframe tbody tr th {\n",
       "        vertical-align: top;\n",
       "    }\n",
       "\n",
       "    .dataframe thead th {\n",
       "        text-align: right;\n",
       "    }\n",
       "</style>\n",
       "<table border=\"1\" class=\"dataframe\">\n",
       "  <thead>\n",
       "    <tr style=\"text-align: right;\">\n",
       "      <th></th>\n",
       "      <th>ident</th>\n",
       "      <th>type</th>\n",
       "      <th>name</th>\n",
       "      <th>elevation_ft</th>\n",
       "      <th>continent</th>\n",
       "      <th>iso_country</th>\n",
       "      <th>iso_region</th>\n",
       "      <th>municipality</th>\n",
       "      <th>gps_code</th>\n",
       "      <th>iata_code</th>\n",
       "      <th>local_code</th>\n",
       "      <th>coordinates</th>\n",
       "    </tr>\n",
       "  </thead>\n",
       "  <tbody>\n",
       "    <tr>\n",
       "      <th>0</th>\n",
       "      <td>00A</td>\n",
       "      <td>heliport</td>\n",
       "      <td>Total Rf Heliport</td>\n",
       "      <td>11.0</td>\n",
       "      <td>NaN</td>\n",
       "      <td>US</td>\n",
       "      <td>US-PA</td>\n",
       "      <td>Bensalem</td>\n",
       "      <td>00A</td>\n",
       "      <td>NaN</td>\n",
       "      <td>00A</td>\n",
       "      <td>-74.93360137939453, 40.07080078125</td>\n",
       "    </tr>\n",
       "    <tr>\n",
       "      <th>1</th>\n",
       "      <td>00AA</td>\n",
       "      <td>small_airport</td>\n",
       "      <td>Aero B Ranch Airport</td>\n",
       "      <td>3435.0</td>\n",
       "      <td>NaN</td>\n",
       "      <td>US</td>\n",
       "      <td>US-KS</td>\n",
       "      <td>Leoti</td>\n",
       "      <td>00AA</td>\n",
       "      <td>NaN</td>\n",
       "      <td>00AA</td>\n",
       "      <td>-101.473911, 38.704022</td>\n",
       "    </tr>\n",
       "    <tr>\n",
       "      <th>2</th>\n",
       "      <td>00AK</td>\n",
       "      <td>small_airport</td>\n",
       "      <td>Lowell Field</td>\n",
       "      <td>450.0</td>\n",
       "      <td>NaN</td>\n",
       "      <td>US</td>\n",
       "      <td>US-AK</td>\n",
       "      <td>Anchor Point</td>\n",
       "      <td>00AK</td>\n",
       "      <td>NaN</td>\n",
       "      <td>00AK</td>\n",
       "      <td>-151.695999146, 59.94919968</td>\n",
       "    </tr>\n",
       "    <tr>\n",
       "      <th>3</th>\n",
       "      <td>00AL</td>\n",
       "      <td>small_airport</td>\n",
       "      <td>Epps Airpark</td>\n",
       "      <td>820.0</td>\n",
       "      <td>NaN</td>\n",
       "      <td>US</td>\n",
       "      <td>US-AL</td>\n",
       "      <td>Harvest</td>\n",
       "      <td>00AL</td>\n",
       "      <td>NaN</td>\n",
       "      <td>00AL</td>\n",
       "      <td>-86.77030181884766, 34.86479949951172</td>\n",
       "    </tr>\n",
       "    <tr>\n",
       "      <th>4</th>\n",
       "      <td>00AR</td>\n",
       "      <td>closed</td>\n",
       "      <td>Newport Hospital &amp; Clinic Heliport</td>\n",
       "      <td>237.0</td>\n",
       "      <td>NaN</td>\n",
       "      <td>US</td>\n",
       "      <td>US-AR</td>\n",
       "      <td>Newport</td>\n",
       "      <td>NaN</td>\n",
       "      <td>NaN</td>\n",
       "      <td>NaN</td>\n",
       "      <td>-91.254898, 35.6087</td>\n",
       "    </tr>\n",
       "  </tbody>\n",
       "</table>\n",
       "</div>"
      ],
      "text/plain": [
       "  ident           type                                name  elevation_ft  \\\n",
       "0   00A       heliport                   Total Rf Heliport          11.0   \n",
       "1  00AA  small_airport                Aero B Ranch Airport        3435.0   \n",
       "2  00AK  small_airport                        Lowell Field         450.0   \n",
       "3  00AL  small_airport                        Epps Airpark         820.0   \n",
       "4  00AR         closed  Newport Hospital & Clinic Heliport         237.0   \n",
       "\n",
       "  continent iso_country iso_region  municipality gps_code iata_code  \\\n",
       "0       NaN          US      US-PA      Bensalem      00A       NaN   \n",
       "1       NaN          US      US-KS         Leoti     00AA       NaN   \n",
       "2       NaN          US      US-AK  Anchor Point     00AK       NaN   \n",
       "3       NaN          US      US-AL       Harvest     00AL       NaN   \n",
       "4       NaN          US      US-AR       Newport      NaN       NaN   \n",
       "\n",
       "  local_code                            coordinates  \n",
       "0        00A     -74.93360137939453, 40.07080078125  \n",
       "1       00AA                 -101.473911, 38.704022  \n",
       "2       00AK            -151.695999146, 59.94919968  \n",
       "3       00AL  -86.77030181884766, 34.86479949951172  \n",
       "4        NaN                    -91.254898, 35.6087  "
      ]
     },
     "execution_count": 8,
     "metadata": {},
     "output_type": "execute_result"
    }
   ],
   "source": [
    "null_data.head()"
   ]
  },
  {
   "cell_type": "code",
   "execution_count": 9,
   "metadata": {},
   "outputs": [
    {
     "data": {
      "text/plain": [
       "ident               0\n",
       "type                0\n",
       "name                0\n",
       "elevation_ft     6951\n",
       "continent       27477\n",
       "iso_country       247\n",
       "iso_region          0\n",
       "municipality     5616\n",
       "gps_code        13664\n",
       "iata_code       45565\n",
       "local_code      26145\n",
       "coordinates         0\n",
       "dtype: int64"
      ]
     },
     "execution_count": 9,
     "metadata": {},
     "output_type": "execute_result"
    }
   ],
   "source": [
    "data.isnull().sum(axis = 0)"
   ]
  },
  {
   "cell_type": "code",
   "execution_count": 10,
   "metadata": {},
   "outputs": [],
   "source": [
    "data.drop(columns = ['continent','iata_code','local_code','gps_code','elevation_ft'],axis = 1, inplace = True)"
   ]
  },
  {
   "cell_type": "code",
   "execution_count": 11,
   "metadata": {},
   "outputs": [
    {
     "name": "stdout",
     "output_type": "stream",
     "text": [
      "<class 'pandas.core.frame.DataFrame'>\n",
      "RangeIndex: 54736 entries, 0 to 54735\n",
      "Data columns (total 7 columns):\n",
      "ident           54736 non-null object\n",
      "type            54736 non-null object\n",
      "name            54736 non-null object\n",
      "iso_country     54489 non-null object\n",
      "iso_region      54736 non-null object\n",
      "municipality    49120 non-null object\n",
      "coordinates     54736 non-null object\n",
      "dtypes: object(7)\n",
      "memory usage: 2.9+ MB\n"
     ]
    }
   ],
   "source": [
    "data.info()"
   ]
  },
  {
   "cell_type": "code",
   "execution_count": 12,
   "metadata": {},
   "outputs": [],
   "source": [
    "del_iso_country_index = data[data.iso_country.isna()].index"
   ]
  },
  {
   "cell_type": "code",
   "execution_count": 13,
   "metadata": {},
   "outputs": [],
   "source": [
    "data.drop(index = del_iso_country_index, inplace = True)"
   ]
  },
  {
   "cell_type": "code",
   "execution_count": 14,
   "metadata": {},
   "outputs": [
    {
     "name": "stdout",
     "output_type": "stream",
     "text": [
      "<class 'pandas.core.frame.DataFrame'>\n",
      "Int64Index: 54489 entries, 0 to 54735\n",
      "Data columns (total 7 columns):\n",
      "ident           54489 non-null object\n",
      "type            54489 non-null object\n",
      "name            54489 non-null object\n",
      "iso_country     54489 non-null object\n",
      "iso_region      54489 non-null object\n",
      "municipality    48975 non-null object\n",
      "coordinates     54489 non-null object\n",
      "dtypes: object(7)\n",
      "memory usage: 3.3+ MB\n"
     ]
    }
   ],
   "source": [
    "data.info()"
   ]
  },
  {
   "cell_type": "code",
   "execution_count": 15,
   "metadata": {},
   "outputs": [],
   "source": [
    "del_municipality_index = data[data.municipality.isnull()].index"
   ]
  },
  {
   "cell_type": "code",
   "execution_count": 16,
   "metadata": {},
   "outputs": [],
   "source": [
    "data.drop(index = del_municipality_index, inplace = True)"
   ]
  },
  {
   "cell_type": "code",
   "execution_count": 17,
   "metadata": {},
   "outputs": [
    {
     "name": "stdout",
     "output_type": "stream",
     "text": [
      "<class 'pandas.core.frame.DataFrame'>\n",
      "Int64Index: 48975 entries, 0 to 54735\n",
      "Data columns (total 7 columns):\n",
      "ident           48975 non-null object\n",
      "type            48975 non-null object\n",
      "name            48975 non-null object\n",
      "iso_country     48975 non-null object\n",
      "iso_region      48975 non-null object\n",
      "municipality    48975 non-null object\n",
      "coordinates     48975 non-null object\n",
      "dtypes: object(7)\n",
      "memory usage: 3.0+ MB\n"
     ]
    }
   ],
   "source": [
    "data.info()"
   ]
  },
  {
   "cell_type": "code",
   "execution_count": 18,
   "metadata": {},
   "outputs": [
    {
     "name": "stdout",
     "output_type": "stream",
     "text": [
      "Existen 7 tipos de aeropuertos. \n",
      "Son: ['heliport' 'small_airport' 'closed' 'seaplane_base' 'balloonport'\n",
      " 'medium_airport' 'large_airport'] \n"
     ]
    }
   ],
   "source": [
    "print('Existen {} tipos de aeropuertos. \\nSon: {} '.format(data.type.nunique(),data.type.unique()))"
   ]
  },
  {
   "cell_type": "markdown",
   "metadata": {},
   "source": [
    "Por curiosidad, ¿Qué aeropuertos se han cerrado en Colombia?"
   ]
  },
  {
   "cell_type": "code",
   "execution_count": 19,
   "metadata": {},
   "outputs": [
    {
     "data": {
      "text/html": [
       "<div>\n",
       "<style scoped>\n",
       "    .dataframe tbody tr th:only-of-type {\n",
       "        vertical-align: middle;\n",
       "    }\n",
       "\n",
       "    .dataframe tbody tr th {\n",
       "        vertical-align: top;\n",
       "    }\n",
       "\n",
       "    .dataframe thead th {\n",
       "        text-align: right;\n",
       "    }\n",
       "</style>\n",
       "<table border=\"1\" class=\"dataframe\">\n",
       "  <thead>\n",
       "    <tr style=\"text-align: right;\">\n",
       "      <th></th>\n",
       "      <th>ident</th>\n",
       "      <th>type</th>\n",
       "      <th>name</th>\n",
       "      <th>iso_country</th>\n",
       "      <th>iso_region</th>\n",
       "      <th>municipality</th>\n",
       "      <th>coordinates</th>\n",
       "    </tr>\n",
       "  </thead>\n",
       "  <tbody>\n",
       "    <tr>\n",
       "      <th>43952</th>\n",
       "      <td>SK-204</td>\n",
       "      <td>closed</td>\n",
       "      <td>Planeta Rica Airport</td>\n",
       "      <td>CO</td>\n",
       "      <td>CO-COR</td>\n",
       "      <td>Planeta Rica</td>\n",
       "      <td>-75.577379, 8.398853</td>\n",
       "    </tr>\n",
       "    <tr>\n",
       "      <th>44350</th>\n",
       "      <td>SKOT</td>\n",
       "      <td>closed</td>\n",
       "      <td>Otu Airport</td>\n",
       "      <td>CO</td>\n",
       "      <td>CO-ANT</td>\n",
       "      <td>Remedios</td>\n",
       "      <td>-74.7155, 7.01037</td>\n",
       "    </tr>\n",
       "    <tr>\n",
       "      <th>44370</th>\n",
       "      <td>SKSF</td>\n",
       "      <td>closed</td>\n",
       "      <td>Santa Fé de Antioquía Airport</td>\n",
       "      <td>CO</td>\n",
       "      <td>CO-ANT</td>\n",
       "      <td>Santa Fé de Antioquía</td>\n",
       "      <td>-75.822521, 6.500631</td>\n",
       "    </tr>\n",
       "  </tbody>\n",
       "</table>\n",
       "</div>"
      ],
      "text/plain": [
       "        ident    type                           name iso_country iso_region  \\\n",
       "43952  SK-204  closed           Planeta Rica Airport          CO     CO-COR   \n",
       "44350    SKOT  closed                    Otu Airport          CO     CO-ANT   \n",
       "44370    SKSF  closed  Santa Fé de Antioquía Airport          CO     CO-ANT   \n",
       "\n",
       "                municipality           coordinates  \n",
       "43952           Planeta Rica  -75.577379, 8.398853  \n",
       "44350               Remedios     -74.7155, 7.01037  \n",
       "44370  Santa Fé de Antioquía  -75.822521, 6.500631  "
      ]
     },
     "execution_count": 19,
     "metadata": {},
     "output_type": "execute_result"
    }
   ],
   "source": [
    "data[data['type'].isin(['closed']) & data['iso_country'].isin(['CO'])]"
   ]
  },
  {
   "cell_type": "code",
   "execution_count": 20,
   "metadata": {},
   "outputs": [],
   "source": [
    "del_type = data[data['type'].isin(['heliport','closed','seaplane_base','balloonport'])].index"
   ]
  },
  {
   "cell_type": "code",
   "execution_count": 21,
   "metadata": {},
   "outputs": [],
   "source": [
    "data.drop(index = del_type, inplace = True)"
   ]
  },
  {
   "cell_type": "code",
   "execution_count": 22,
   "metadata": {},
   "outputs": [
    {
     "data": {
      "text/plain": [
       "small_airport     29999\n",
       "medium_airport     4030\n",
       "large_airport       582\n",
       "Name: type, dtype: int64"
      ]
     },
     "execution_count": 22,
     "metadata": {},
     "output_type": "execute_result"
    }
   ],
   "source": [
    "data['type'].value_counts()"
   ]
  },
  {
   "cell_type": "code",
   "execution_count": 23,
   "metadata": {},
   "outputs": [
    {
     "name": "stdout",
     "output_type": "stream",
     "text": [
      "En Colombia existen:\n",
      "Aeropuertos pequeños: 589\n",
      "Aeropuertos medianos: 59\n",
      "Aeropuertos grandes: 1\n"
     ]
    }
   ],
   "source": [
    "colombian_small =  data.type[data['type'].isin(['small_airport']) & data['iso_country'].isin(['CO'])].count()\n",
    "colombian_medium = data.type[data['type'].isin(['medium_airport']) & data['iso_country'].isin(['CO'])].count()\n",
    "colombian_big =    data.type[data['type'].isin(['large_airport']) & data['iso_country'].isin(['CO'])].count()\n",
    "print('En Colombia existen:\\nAeropuertos pequeños: {}\\nAeropuertos medianos: {}\\nAeropuertos grandes: {}'.format\n",
    "     (colombian_small,colombian_medium,colombian_big))"
   ]
  },
  {
   "cell_type": "code",
   "execution_count": 24,
   "metadata": {},
   "outputs": [],
   "source": [
    "aero_colombia = data[data['iso_country'].isin(['CO'])]"
   ]
  },
  {
   "cell_type": "code",
   "execution_count": 25,
   "metadata": {},
   "outputs": [],
   "source": [
    "aero_colombia.reset_index(inplace = True, drop = True)"
   ]
  },
  {
   "cell_type": "code",
   "execution_count": 26,
   "metadata": {},
   "outputs": [
    {
     "data": {
      "text/html": [
       "<div>\n",
       "<style scoped>\n",
       "    .dataframe tbody tr th:only-of-type {\n",
       "        vertical-align: middle;\n",
       "    }\n",
       "\n",
       "    .dataframe tbody tr th {\n",
       "        vertical-align: top;\n",
       "    }\n",
       "\n",
       "    .dataframe thead th {\n",
       "        text-align: right;\n",
       "    }\n",
       "</style>\n",
       "<table border=\"1\" class=\"dataframe\">\n",
       "  <thead>\n",
       "    <tr style=\"text-align: right;\">\n",
       "      <th></th>\n",
       "      <th>ident</th>\n",
       "      <th>type</th>\n",
       "      <th>name</th>\n",
       "      <th>iso_country</th>\n",
       "      <th>iso_region</th>\n",
       "      <th>municipality</th>\n",
       "      <th>coordinates</th>\n",
       "    </tr>\n",
       "  </thead>\n",
       "  <tbody>\n",
       "    <tr>\n",
       "      <th>0</th>\n",
       "      <td>AGI</td>\n",
       "      <td>small_airport</td>\n",
       "      <td>El Paraíso Airport</td>\n",
       "      <td>CO</td>\n",
       "      <td>CO-CES</td>\n",
       "      <td>Aguachica</td>\n",
       "      <td>-73.584722, 8.128611</td>\n",
       "    </tr>\n",
       "    <tr>\n",
       "      <th>1</th>\n",
       "      <td>CO-0054</td>\n",
       "      <td>small_airport</td>\n",
       "      <td>Ríohacha Highway Strip</td>\n",
       "      <td>CO</td>\n",
       "      <td>CO-GUV</td>\n",
       "      <td>Ríohacha</td>\n",
       "      <td>-72.9892, 11.4988</td>\n",
       "    </tr>\n",
       "    <tr>\n",
       "      <th>2</th>\n",
       "      <td>CO-0055</td>\n",
       "      <td>small_airport</td>\n",
       "      <td>Mondo Nuevo Airport</td>\n",
       "      <td>CO</td>\n",
       "      <td>CO-COR</td>\n",
       "      <td>Mondo Nuevo</td>\n",
       "      <td>-75.7911, 8.3909</td>\n",
       "    </tr>\n",
       "    <tr>\n",
       "      <th>3</th>\n",
       "      <td>CO-0056</td>\n",
       "      <td>small_airport</td>\n",
       "      <td>Patetal Airport</td>\n",
       "      <td>CO</td>\n",
       "      <td>CO-COR</td>\n",
       "      <td>Ayapel</td>\n",
       "      <td>-75.058043, 8.231858</td>\n",
       "    </tr>\n",
       "    <tr>\n",
       "      <th>4</th>\n",
       "      <td>CO-0057</td>\n",
       "      <td>small_airport</td>\n",
       "      <td>Taraira Airstrip</td>\n",
       "      <td>CO</td>\n",
       "      <td>CO-VAU</td>\n",
       "      <td>Taraira</td>\n",
       "      <td>-69.638809, -0.56784</td>\n",
       "    </tr>\n",
       "  </tbody>\n",
       "</table>\n",
       "</div>"
      ],
      "text/plain": [
       "     ident           type                    name iso_country iso_region  \\\n",
       "0      AGI  small_airport      El Paraíso Airport          CO     CO-CES   \n",
       "1  CO-0054  small_airport  Ríohacha Highway Strip          CO     CO-GUV   \n",
       "2  CO-0055  small_airport     Mondo Nuevo Airport          CO     CO-COR   \n",
       "3  CO-0056  small_airport         Patetal Airport          CO     CO-COR   \n",
       "4  CO-0057  small_airport        Taraira Airstrip          CO     CO-VAU   \n",
       "\n",
       "  municipality           coordinates  \n",
       "0    Aguachica  -73.584722, 8.128611  \n",
       "1     Ríohacha     -72.9892, 11.4988  \n",
       "2  Mondo Nuevo      -75.7911, 8.3909  \n",
       "3       Ayapel  -75.058043, 8.231858  \n",
       "4      Taraira  -69.638809, -0.56784  "
      ]
     },
     "execution_count": 26,
     "metadata": {},
     "output_type": "execute_result"
    }
   ],
   "source": [
    "aero_colombia.head()"
   ]
  },
  {
   "cell_type": "code",
   "execution_count": 27,
   "metadata": {},
   "outputs": [],
   "source": [
    "cuenta_aero_co = aero_colombia.groupby('type')[['type']].count()"
   ]
  },
  {
   "cell_type": "code",
   "execution_count": 28,
   "metadata": {},
   "outputs": [],
   "source": [
    "cuenta_aero_co.columns = ['Number']"
   ]
  },
  {
   "cell_type": "code",
   "execution_count": 29,
   "metadata": {},
   "outputs": [
    {
     "data": {
      "text/html": [
       "<div>\n",
       "<style scoped>\n",
       "    .dataframe tbody tr th:only-of-type {\n",
       "        vertical-align: middle;\n",
       "    }\n",
       "\n",
       "    .dataframe tbody tr th {\n",
       "        vertical-align: top;\n",
       "    }\n",
       "\n",
       "    .dataframe thead th {\n",
       "        text-align: right;\n",
       "    }\n",
       "</style>\n",
       "<table border=\"1\" class=\"dataframe\">\n",
       "  <thead>\n",
       "    <tr style=\"text-align: right;\">\n",
       "      <th></th>\n",
       "      <th>Number</th>\n",
       "    </tr>\n",
       "    <tr>\n",
       "      <th>type</th>\n",
       "      <th></th>\n",
       "    </tr>\n",
       "  </thead>\n",
       "  <tbody>\n",
       "    <tr>\n",
       "      <th>large_airport</th>\n",
       "      <td>1</td>\n",
       "    </tr>\n",
       "    <tr>\n",
       "      <th>medium_airport</th>\n",
       "      <td>59</td>\n",
       "    </tr>\n",
       "    <tr>\n",
       "      <th>small_airport</th>\n",
       "      <td>589</td>\n",
       "    </tr>\n",
       "  </tbody>\n",
       "</table>\n",
       "</div>"
      ],
      "text/plain": [
       "                Number\n",
       "type                  \n",
       "large_airport        1\n",
       "medium_airport      59\n",
       "small_airport      589"
      ]
     },
     "execution_count": 29,
     "metadata": {},
     "output_type": "execute_result"
    }
   ],
   "source": [
    "cuenta_aero_co"
   ]
  },
  {
   "cell_type": "code",
   "execution_count": 30,
   "metadata": {},
   "outputs": [
    {
     "data": {
      "text/html": [
       "<div>\n",
       "<style scoped>\n",
       "    .dataframe tbody tr th:only-of-type {\n",
       "        vertical-align: middle;\n",
       "    }\n",
       "\n",
       "    .dataframe tbody tr th {\n",
       "        vertical-align: top;\n",
       "    }\n",
       "\n",
       "    .dataframe thead th {\n",
       "        text-align: right;\n",
       "    }\n",
       "</style>\n",
       "<table border=\"1\" class=\"dataframe\">\n",
       "  <thead>\n",
       "    <tr style=\"text-align: right;\">\n",
       "      <th></th>\n",
       "      <th>ident</th>\n",
       "      <th>type</th>\n",
       "      <th>name</th>\n",
       "      <th>iso_country</th>\n",
       "      <th>iso_region</th>\n",
       "      <th>municipality</th>\n",
       "      <th>coordinates</th>\n",
       "    </tr>\n",
       "  </thead>\n",
       "  <tbody>\n",
       "    <tr>\n",
       "      <th>0</th>\n",
       "      <td>AGI</td>\n",
       "      <td>small_airport</td>\n",
       "      <td>El Paraíso Airport</td>\n",
       "      <td>CO</td>\n",
       "      <td>CO-CES</td>\n",
       "      <td>Aguachica</td>\n",
       "      <td>-73.584722, 8.128611</td>\n",
       "    </tr>\n",
       "    <tr>\n",
       "      <th>1</th>\n",
       "      <td>CO-0054</td>\n",
       "      <td>small_airport</td>\n",
       "      <td>Ríohacha Highway Strip</td>\n",
       "      <td>CO</td>\n",
       "      <td>CO-GUV</td>\n",
       "      <td>Ríohacha</td>\n",
       "      <td>-72.9892, 11.4988</td>\n",
       "    </tr>\n",
       "    <tr>\n",
       "      <th>2</th>\n",
       "      <td>CO-0055</td>\n",
       "      <td>small_airport</td>\n",
       "      <td>Mondo Nuevo Airport</td>\n",
       "      <td>CO</td>\n",
       "      <td>CO-COR</td>\n",
       "      <td>Mondo Nuevo</td>\n",
       "      <td>-75.7911, 8.3909</td>\n",
       "    </tr>\n",
       "    <tr>\n",
       "      <th>3</th>\n",
       "      <td>CO-0056</td>\n",
       "      <td>small_airport</td>\n",
       "      <td>Patetal Airport</td>\n",
       "      <td>CO</td>\n",
       "      <td>CO-COR</td>\n",
       "      <td>Ayapel</td>\n",
       "      <td>-75.058043, 8.231858</td>\n",
       "    </tr>\n",
       "    <tr>\n",
       "      <th>4</th>\n",
       "      <td>CO-0057</td>\n",
       "      <td>small_airport</td>\n",
       "      <td>Taraira Airstrip</td>\n",
       "      <td>CO</td>\n",
       "      <td>CO-VAU</td>\n",
       "      <td>Taraira</td>\n",
       "      <td>-69.638809, -0.56784</td>\n",
       "    </tr>\n",
       "  </tbody>\n",
       "</table>\n",
       "</div>"
      ],
      "text/plain": [
       "     ident           type                    name iso_country iso_region  \\\n",
       "0      AGI  small_airport      El Paraíso Airport          CO     CO-CES   \n",
       "1  CO-0054  small_airport  Ríohacha Highway Strip          CO     CO-GUV   \n",
       "2  CO-0055  small_airport     Mondo Nuevo Airport          CO     CO-COR   \n",
       "3  CO-0056  small_airport         Patetal Airport          CO     CO-COR   \n",
       "4  CO-0057  small_airport        Taraira Airstrip          CO     CO-VAU   \n",
       "\n",
       "  municipality           coordinates  \n",
       "0    Aguachica  -73.584722, 8.128611  \n",
       "1     Ríohacha     -72.9892, 11.4988  \n",
       "2  Mondo Nuevo      -75.7911, 8.3909  \n",
       "3       Ayapel  -75.058043, 8.231858  \n",
       "4      Taraira  -69.638809, -0.56784  "
      ]
     },
     "execution_count": 30,
     "metadata": {},
     "output_type": "execute_result"
    }
   ],
   "source": [
    "aero_colombia.head()"
   ]
  },
  {
   "cell_type": "code",
   "execution_count": 31,
   "metadata": {},
   "outputs": [
    {
     "data": {
      "text/plain": [
       "<matplotlib.axes._subplots.AxesSubplot at 0x7f98870424e0>"
      ]
     },
     "execution_count": 31,
     "metadata": {},
     "output_type": "execute_result"
    },
    {
     "data": {
      "image/png": "[encoded data removed]",
      "text/plain": [
       "<Figure size 1440x432 with 1 Axes>"
      ]
     },
     "metadata": {
      "needs_background": "light"
     },
     "output_type": "display_data"
    }
   ],
   "source": [
    "sns.barplot(data = cuenta_aero_co, x = cuenta_aero_co.index, y = 'Number')"
   ]
  },
  {
   "cell_type": "code",
   "execution_count": 68,
   "metadata": {},
   "outputs": [],
   "source": [
    "data_grafica = data.loc[:,'type':'iso_country']\n",
    "data_grafica = data.groupby('iso_country')[['type']].count().sort_values(by = 'type', ascending = False)\n",
    "data_grafica.columns = ['numero']\n",
    "data_grafica = data_grafica[:15]"
   ]
  },
  {
   "cell_type": "code",
   "execution_count": 70,
   "metadata": {},
   "outputs": [
    {
     "data": {
      "image/png": "[encoded data removed]",
      "text/plain": [
       "<Figure size 1440x432 with 1 Axes>"
      ]
     },
     "metadata": {},
     "output_type": "display_data"
    }
   ],
   "source": [
    "sns.barplot(data = data_grafica, x = data_grafica.index, y = data_grafica.numero)\n",
    "sns.set_style(\"dark\")\n",
    "sns.despine() # Sin bordes en la gráfica\n",
    "plt.title('Cantidad de aeropuertos por País')\n",
    "plt.show()"
   ]
  },
  {
   "cell_type": "code",
   "execution_count": 34,
   "metadata": {},
   "outputs": [
    {
     "data": {
      "text/plain": [
       "array(['US', 'PR', 'MH', 'SO', 'AQ', 'PG', 'SD', 'SA', 'AE', 'AF', 'SB',\n",
       "       'CO', 'AU', 'CN', 'MG', 'TD', 'AL', 'AM', 'MX', 'MZ', 'PW', 'NR',\n",
       "       'AO', 'AR', 'AS', 'GA', 'AZ', 'BA', 'BE', 'BF', 'BG', 'GL', 'BI',\n",
       "       'IS', 'BJ', 'OM', 'XK', 'BO', 'BR', 'BS', 'CV', 'BW', 'BY', 'LR',\n",
       "       'BZ', 'CA', 'GB', 'CD', 'CF', 'CG', 'PH', 'MR', 'CH', 'CL', 'CM',\n",
       "       'CR', 'CU', 'CY', 'CZ', 'PA', 'DZ', 'DE', 'ID', 'GH', 'CI', 'DK',\n",
       "       'NG', 'RU', 'NE', 'TN', 'TG', 'EC', 'EE', 'FI', 'EG', 'GG', 'JE',\n",
       "       'IM', 'FK', 'EH', 'NL', 'IE', 'FO', 'LU', 'NO', 'PL', 'PT', 'MN',\n",
       "       'ES', 'SE', 'ET', 'LV', 'LT', 'ZA', 'SZ', 'GQ', 'SH', 'MU', 'FJ',\n",
       "       'IO', 'ZM', 'FM', 'KM', 'YT', 'RE', 'ST', 'FR', 'TF', 'SC', 'ZW',\n",
       "       'MW', 'LS', 'ML', 'GM', 'GE', 'GF', 'SL', 'GW', 'MA', 'GN', 'SN',\n",
       "       'GR', 'GT', 'TZ', 'GY', 'SR', 'DJ', 'ER', 'KE', 'LY', 'HN', 'VN',\n",
       "       'KZ', 'RW', 'SS', 'HT', 'HU', 'UG', 'TL', 'IN', 'IQ', 'IR', 'JP',\n",
       "       'IT', 'JM', 'KG', 'KP', 'KR', 'MY', 'HR', 'PM', 'SI', 'LK', 'IL',\n",
       "       'MT', 'AT', 'RO', 'TR', 'MD', 'MK', 'GI', 'RS', 'ME', 'SK', 'TC',\n",
       "       'DO', 'MM', 'NI', 'SV', 'KY', 'NC', 'CK', 'TO', 'KI', 'TV', 'NU',\n",
       "       'WF', 'NP', 'WS', 'PF', 'VU', 'NZ', 'BH', 'JO', 'KW', 'LB', 'KH',\n",
       "       'PK', 'SY', 'QA', 'YE', 'LA', 'PE', 'MP', 'GU', 'UM', 'TH', 'PS',\n",
       "       'PY', 'TW', 'SM', 'UY', 'VE', 'AG', 'BB', 'DM', 'GP', 'MQ', 'MF',\n",
       "       'BL', 'GD', 'VI', 'TJ', 'KN', 'LC', 'TM', 'AW', 'BQ', 'CW', 'SX',\n",
       "       'AI', 'MS', 'TT', 'VG', 'VC', 'BM', 'UA', 'UZ', 'BD', 'HK', 'MO',\n",
       "       'BT', 'MV', 'BN', 'SG', 'CC', 'CX', 'NF'], dtype=object)"
      ]
     },
     "execution_count": 34,
     "metadata": {},
     "output_type": "execute_result"
    }
   ],
   "source": [
    "iso_list = data.iso_country.unique()\n",
    "iso_list"
   ]
  },
  {
   "cell_type": "code",
   "execution_count": 35,
   "metadata": {},
   "outputs": [
    {
     "data": {
      "text/plain": [
       "array(['small_airport', 'medium_airport', 'large_airport'], dtype=object)"
      ]
     },
     "execution_count": 35,
     "metadata": {},
     "output_type": "execute_result"
    }
   ],
   "source": [
    "type_list = data.type.unique()\n",
    "type_list"
   ]
  },
  {
   "cell_type": "code",
   "execution_count": 74,
   "metadata": {
    "scrolled": true
   },
   "outputs": [
    {
     "data": {
      "text/plain": [
       "type\n",
       "large_airport       169\n",
       "medium_airport      688\n",
       "small_airport     13732\n",
       "dtype: int64"
      ]
     },
     "execution_count": 74,
     "metadata": {},
     "output_type": "execute_result"
    }
   ],
   "source": [
    "agrupados = data.groupby(['iso_country','type']).size()\n",
    "agrupados.US"
   ]
  },
  {
   "cell_type": "code",
   "execution_count": 37,
   "metadata": {},
   "outputs": [],
   "source": [
    "agrupados_df = pd.DataFrame(agrupados)\n",
    "agrupados_df.reset_index(inplace = True)"
   ]
  },
  {
   "cell_type": "code",
   "execution_count": 38,
   "metadata": {},
   "outputs": [],
   "source": [
    "agrupados_df.columns = ['iso_country','type','numero']"
   ]
  },
  {
   "cell_type": "code",
   "execution_count": 39,
   "metadata": {
    "scrolled": true
   },
   "outputs": [],
   "source": [
    "agrupados_df.sort_values(['numero','type'], ascending = [False,False],inplace = True)"
   ]
  },
  {
   "cell_type": "code",
   "execution_count": 71,
   "metadata": {
    "scrolled": true
   },
   "outputs": [
    {
     "data": {
      "text/plain": [
       "<matplotlib.axes._subplots.AxesSubplot at 0x7f98832b8e48>"
      ]
     },
     "execution_count": 71,
     "metadata": {},
     "output_type": "execute_result"
    },
    {
     "data": {
      "image/png": "[encoded data removed]",
      "text/plain": [
       "<Figure size 1440x432 with 1 Axes>"
      ]
     },
     "metadata": {},
     "output_type": "display_data"
    }
   ],
   "source": [
    "sns.barplot(data = agrupados_df[0:35], x = 'iso_country', y = 'numero', hue = 'type' )"
   ]
  },
  {
   "cell_type": "code",
   "execution_count": 41,
   "metadata": {
    "scrolled": true
   },
   "outputs": [],
   "source": [
    "small_airports = agrupados_df[agrupados_df['type'] == 'small_airport']\n",
    "medium_airports = agrupados_df[agrupados_df['type'] == 'medium_airport']\n",
    "large_airports = agrupados_df[agrupados_df['type'] == 'large_airport']"
   ]
  },
  {
   "cell_type": "code",
   "execution_count": 81,
   "metadata": {
    "scrolled": true
   },
   "outputs": [
    {
     "data": {
      "image/png": "[encoded data removed]",
      "text/plain": [
       "<Figure size 1440x432 with 1 Axes>"
      ]
     },
     "metadata": {},
     "output_type": "display_data"
    }
   ],
   "source": [
    "sns.barplot(data = small_airports[:50], x = 'iso_country', y = 'numero')\n",
    "plt.title('Cantidad de aeropuertos pequeños por país')\n",
    "sns.set_style(\"whitegrid\")"
   ]
  },
  {
   "cell_type": "code",
   "execution_count": 80,
   "metadata": {
    "scrolled": true
   },
   "outputs": [
    {
     "data": {
      "image/png": "[encoded data removed]",
      "text/plain": [
       "<Figure size 1440x432 with 1 Axes>"
      ]
     },
     "metadata": {},
     "output_type": "display_data"
    }
   ],
   "source": [
    "sns.barplot(data = medium_airports[:50], x = 'iso_country', y = 'numero')\n",
    "plt.title('Cantidad de aeropuertos medianos por país')\n",
    "sns.set_style(\"whitegrid\")"
   ]
  },
  {
   "cell_type": "code",
   "execution_count": 79,
   "metadata": {
    "scrolled": true
   },
   "outputs": [
    {
     "data": {
      "image/png": "[encoded data removed]",
      "text/plain": [
       "<Figure size 1440x432 with 1 Axes>"
      ]
     },
     "metadata": {},
     "output_type": "display_data"
    }
   ],
   "source": [
    "sns.barplot(data = large_airports[:50], x = 'iso_country', y = 'numero')\n",
    "plt.title('Cantidad de aeropuertos grandes por pais')\n",
    "sns.set_style(\"whitegrid\")"
   ]
  },
  {
   "cell_type": "markdown",
   "metadata": {},
   "source": [
    "**Conclusiones**\n",
    "* Podemos apreciar que en Colombia se han cerrado tres aeropuertos (Planeta Rico, Otu Airport, Santa Fé de Antioquía)\n",
    "* En Colombia existen 649 aeropuertos de los cuales : 589 son pequeños, 59 son de tamaño y sólo uno es de gran tamaño (Aeropuerto Internacional El Dorado)\n",
    "* El país con más aeropuertos del mundo es Estados Unidos con un total de 14589 de los cuales: 13732 son pequeños, 688 son medianos y 169 son grandes."
   ]
  }
 ],
 "metadata": {
  "kernelspec": {
   "display_name": "Python 3",
   "language": "python",
   "name": "python3"
  },
  "language_info": {
   "codemirror_mode": {
    "name": "ipython",
    "version": 3
   },
   "file_extension": ".py",
   "mimetype": "text/x-python",
   "name": "python",
   "nbconvert_exporter": "python",
   "pygments_lexer": "ipython3",
   "version": "3.7.0"
  }
 },
 "nbformat": 4,
 "nbformat_minor": 2
}
